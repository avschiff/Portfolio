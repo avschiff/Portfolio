{
 "cells": [
  {
   "cell_type": "markdown",
   "metadata": {},
   "source": [
    "# IST256 Project Deliverable 3 (P3)\n",
    "\n",
    "## Phase 3: Data Story / Coding for Explanation\n",
    "\n",
    "In this step, you submit the final version of your working code. You should be implementing the data story that you discussed in P2 (2.3.1). \n",
    "\n",
    "All code necessary to make the project run should be included in this notebook. This include all imports, functions, setup code and your interact. There should be no code that causes errors or exploratory code here.\n",
    "\n",
    "The expectation is that your instructor can open this notebook, run all cells, and then use your program.\n",
    "\n",
    "The code you write should be clear, easy to understand and use the affordances learned in the course.\n",
    "\n",
    "No changes to your code will be considered after this submission. It is important to take prior instructor feedback taken into consideration and these factor into your evaluation.\n"
   ]
  },
  {
   "cell_type": "markdown",
   "metadata": {},
   "source": [
    "### Step 1: Summarize Enhancements and Changes\n",
    "\n",
    "If there were any enhancement or changes to your P3 from your P2 (including those you suggested), please explain them here. For example you might have geocoded your dataset or extracted entities from the text.\n"
   ]
  },
  {
   "cell_type": "markdown",
   "metadata": {},
   "source": [
    "From my P2 to my P3, I figured out how I was going to present my data story in my tool. Based on the information from P2, I decided it was plausible to create a histogram (plot_histogram function) to predict how many movies and TV shows will be presented to the user prior to scrolling down and seeing the actual list. Also, I noticed that it would be interesting to add more inputs to change the user's output based on more things than just genre. Therefore, I added an input of lowest rating and film type. To complete my data story, I thought it was important to use a cartopy map (plot_flight_path function) to display the flight path. After learning cartopy for P2, I knew it would be something that could add to my final project."
   ]
  },
  {
   "cell_type": "markdown",
   "metadata": {},
   "source": [
    "Here is my journal starting at when I started P3:\n",
    "\n",
    "4/22\n",
    "- started p3\n",
    "- engineered my netflix columns\n",
    "    - made the duration column numerical\n",
    "    - added a tv shows column\n",
    "    - added a rounded rating column\n",
    "- added the haversine formula and estimate_flight_durations formula to my final code\n",
    "\n",
    "4/23\n",
    "- learned matplotlib\n",
    "- made a cartopy map that can show the flight path\n",
    "- made the plot_flight_path function\n",
    "\n",
    "4/24\n",
    "- began the plot_histogram function\n",
    "    - only for inputs of genre and flight duration for now\n",
    "- learned how to add a vertical line on the histogram to show my flight duration\n",
    "- created the get_movies function\n",
    "    - only for inputs of genre and flight duration for now\n",
    "    \n",
    "4/26\n",
    "- started my onclick function using interact manual\n",
    "- called my functions to show the flight path and histograms\n",
    "- called get_movies function to find movies based on input (genre and flight duration)\n",
    "\n",
    "4/28\n",
    "- added inputs of film type and lowest rating\n",
    "    - changed my functions\n",
    "- added nicer looking widgets\n",
    "- used html to display nice headings rather than just prints\n",
    "\n",
    "5/1\n",
    "- noticed an issue with the tv column (some films listed as tv are movies that were made for television broadcasting)\n",
    "- added a warning when tv or all is selected\n",
    "- finalized p3"
   ]
  },
  {
   "cell_type": "markdown",
   "metadata": {},
   "source": [
    "### Step 2: Project Code\n",
    "\n",
    "Include all project code below. This includes code that enhances the original dataset. Make sure to execute your code to ensure it runs properly before you turn it in. \n",
    "\n",
    "Add as many cells as you need here.\n"
   ]
  },
  {
   "cell_type": "code",
   "execution_count": 3,
   "metadata": {
    "tags": []
   },
   "outputs": [
    {
     "name": "stdout",
     "output_type": "stream",
     "text": [
      "Requirement already satisfied: cartopy in /opt/conda/lib/python3.11/site-packages (0.23.0)\n",
      "Requirement already satisfied: numpy>=1.21 in /opt/conda/lib/python3.11/site-packages (from cartopy) (1.26.3)\n",
      "Requirement already satisfied: matplotlib>=3.5 in /home/jovyan/.local/lib/python3.11/site-packages (from cartopy) (3.8.2)\n",
      "Requirement already satisfied: shapely>=1.7 in /opt/conda/lib/python3.11/site-packages (from cartopy) (2.0.4)\n",
      "Requirement already satisfied: packaging>=20 in /opt/conda/lib/python3.11/site-packages (from cartopy) (23.2)\n",
      "Requirement already satisfied: pyshp>=2.3 in /opt/conda/lib/python3.11/site-packages (from cartopy) (2.3.1)\n",
      "Requirement already satisfied: pyproj>=3.3.1 in /opt/conda/lib/python3.11/site-packages (from cartopy) (3.6.1)\n",
      "Requirement already satisfied: contourpy>=1.0.1 in /home/jovyan/.local/lib/python3.11/site-packages (from matplotlib>=3.5->cartopy) (1.2.0)\n",
      "Requirement already satisfied: cycler>=0.10 in /home/jovyan/.local/lib/python3.11/site-packages (from matplotlib>=3.5->cartopy) (0.12.1)\n",
      "Requirement already satisfied: fonttools>=4.22.0 in /home/jovyan/.local/lib/python3.11/site-packages (from matplotlib>=3.5->cartopy) (4.47.0)\n",
      "Requirement already satisfied: kiwisolver>=1.3.1 in /home/jovyan/.local/lib/python3.11/site-packages (from matplotlib>=3.5->cartopy) (1.4.5)\n",
      "Requirement already satisfied: pillow>=8 in /opt/conda/lib/python3.11/site-packages (from matplotlib>=3.5->cartopy) (10.2.0)\n",
      "Requirement already satisfied: pyparsing>=2.3.1 in /home/jovyan/.local/lib/python3.11/site-packages (from matplotlib>=3.5->cartopy) (3.1.1)\n",
      "Requirement already satisfied: python-dateutil>=2.7 in /opt/conda/lib/python3.11/site-packages (from matplotlib>=3.5->cartopy) (2.8.2)\n",
      "Requirement already satisfied: certifi in /opt/conda/lib/python3.11/site-packages (from pyproj>=3.3.1->cartopy) (2023.11.17)\n",
      "Requirement already satisfied: six>=1.5 in /opt/conda/lib/python3.11/site-packages (from python-dateutil>=2.7->matplotlib>=3.5->cartopy) (1.16.0)\n"
     ]
    }
   ],
   "source": [
    "!pip install cartopy \n",
    "#this can be used to install cartopy, it is not in the same cell because it makes the output messy if it is in the same cell"
   ]
  },
  {
   "cell_type": "code",
   "execution_count": 3,
   "metadata": {
    "tags": []
   },
   "outputs": [
    {
     "data": {
      "text/html": [
       "<h1>Films for Flights</h1>"
      ],
      "text/plain": [
       "<IPython.core.display.HTML object>"
      ]
     },
     "metadata": {},
     "output_type": "display_data"
    },
    {
     "data": {
      "application/vnd.jupyter.widget-view+json": {
       "model_id": "1c5589a0c400432db627059cd2e8d1a1",
       "version_major": 2,
       "version_minor": 0
      },
      "text/plain": [
       "interactive(children=(Dropdown(description='Departure Airport', options=('00M', '00R', '00V', '01G', '01J', '0…"
      ]
     },
     "metadata": {},
     "output_type": "display_data"
    }
   ],
   "source": [
    "import itertools\n",
    "import pandas as pd\n",
    "import seaborn as sns\n",
    "import math\n",
    "import warnings\n",
    "import matplotlib.pyplot as plt #one thing I learned on my own\n",
    "from IPython.display import display, HTML\n",
    "from ipywidgets import interact_manual, Dropdown, IntSlider\n",
    "import ipywidgets as widgets\n",
    "from ipywidgets import interact, interactive, fixed, interact_manual\n",
    "import cartopy.crs as ccrs #one thing I learned on my own\n",
    "\n",
    "warnings.filterwarnings('ignore')\n",
    "%matplotlib inline\n",
    "\n",
    "airportdf = pd.read_csv(\"airports.csv\")\n",
    "netflixdf = pd.read_csv(\"n_movies.csv\")\n",
    "\n",
    "#engineer new column to indicate TV shows vs movies\n",
    "netflixdf['TV'] = netflixdf['certificate'].fillna('').apply(lambda row: 'yes' if 'TV' in row else 'no')\n",
    "\n",
    "#engineer new column to show the rounded rating of the show or movie\n",
    "netflixdf['rounded_rating'] = netflixdf['rating'].round()\n",
    "\n",
    "#clean duration column of the dataset\n",
    "netflixdf['duration'] = netflixdf['duration'].fillna(0)\n",
    "netflixdf['duration'] = netflixdf['duration'].astype(str).str.replace('min', '')\n",
    "netflixdf['duration'] = pd.to_numeric(netflixdf['duration'], errors='coerce') #https://pandas.pydata.org/docs/reference/api/pandas.to_numeric.html (this converts items in the column to numerical values)\n",
    "\n",
    "def haversine_distance(lon1, lat1, lon2, lat2):\n",
    "    \"\"\"\n",
    "    calculating the great-circle distance between two points\n",
    "    on the earth's surface using the haversine formula\n",
    "    \"\"\"\n",
    "    #conversion from degrees to radians (help from chatgpt)\n",
    "    lon1, lat1, lon2, lat2 = map(math.radians, [lon1, lat1, lon2, lat2])\n",
    "\n",
    "    #haversine formula to find distance based on lon and lat (https://gist.github.com/rochacbruno/2883505?permalink_comment_id=2615334)\n",
    "    dlon = lon2 - lon1\n",
    "    dlat = lat2 - lat1\n",
    "    a = math.sin(dlat/2)**2 + math.cos(lat1) * math.cos(lat2) * math.sin(dlon/2)**2\n",
    "    c = 2 * math.atan2(math.sqrt(a), math.sqrt(1-a))\n",
    "    radius = 6371  #radius of the Earth in kilometers\n",
    "    distance = radius * c\n",
    "\n",
    "    return distance  #distance in kilometers\n",
    "\n",
    "def estimate_flight_duration(departure_airport, arrival_airport, average_speed=800):\n",
    "    \"\"\"\n",
    "    estimating the duration of a flight based on the great-circle distance\n",
    "    between the starting and ending airports and an average flight speed\n",
    "    \"\"\"\n",
    "    start_lon = airportdf.loc[airportdf['iata'] == departure_airport, 'long'].values[0]\n",
    "    start_lat = airportdf.loc[airportdf['iata'] == departure_airport, 'lat'].values[0]\n",
    "    end_lon = airportdf.loc[airportdf['iata'] == arrival_airport, 'long'].values[0]\n",
    "    end_lat = airportdf.loc[airportdf['iata'] == arrival_airport, 'lat'].values[0]\n",
    "\n",
    "    #great-circle distance between the two airports\n",
    "    distance_km = haversine_distance(start_lon, start_lat, end_lon, end_lat)\n",
    "\n",
    "    #duration of the flight (with constant speed)\n",
    "    duration_mins = distance_km / average_speed * 60\n",
    "\n",
    "    return duration_mins\n",
    "\n",
    "def plot_flight_path(departure_airport, arrival_airport):\n",
    "    #get coordinates of departure and arrival airports\n",
    "    departure_lon = airportdf.loc[airportdf['iata'] == departure_airport, 'long'].values[0]\n",
    "    departure_lat = airportdf.loc[airportdf['iata'] == departure_airport, 'lat'].values[0]\n",
    "    arrival_lon = airportdf.loc[airportdf['iata'] == arrival_airport, 'long'].values[0]\n",
    "    arrival_lat = airportdf.loc[airportdf['iata'] == arrival_airport, 'lat'].values[0]\n",
    "\n",
    "    #create a cartopy map (got help from ChatGPT)\n",
    "    fig = plt.figure(figsize=(10, 6)) \n",
    "    ax = fig.add_subplot(1, 1, 1, projection=ccrs.PlateCarree()) #https://scitools.org.uk/cartopy/docs/latest/reference/projections.html (this line of code sets the plot size and projection)\n",
    "\n",
    "    #plot departure and arrival airports\n",
    "    ax.plot(departure_lon, departure_lat, 'ro', markersize=8, label='Departure Airport') #'ro' is the color and shape of the plot mark\n",
    "    ax.plot(arrival_lon, arrival_lat, 'bo', markersize=8, label='Arrival Airport')\n",
    "\n",
    "    #plot the path between departure and arrival airports and set coastlines\n",
    "    ax.plot([departure_lon, arrival_lon], [departure_lat, arrival_lat], color='black', linestyle='--', transform=ccrs.Geodetic()) #help from chatgpt to learn linestyle and transform (to set the type of line and the projection of the line)\n",
    "    ax.coastlines()\n",
    "\n",
    "    #set map extent and gridlines\n",
    "    ax.set_extent([-180, 180, -90, 90], crs=ccrs.PlateCarree())\n",
    "    ax.gridlines(draw_labels=True)\n",
    "\n",
    "    #add legend\n",
    "    ax.legend()\n",
    "\n",
    "    #add title\n",
    "    ax.set_title(f'Flight Path from {airportdf.loc[airportdf[\"iata\"] == departure_airport, \"airport\"].values[0]} to {airportdf.loc[airportdf[\"iata\"] == arrival_airport, \"airport\"].values[0]}')\n",
    "\n",
    "    plt.show()\n",
    "\n",
    "def plot_histogram(genre, flight_duration, lowest_rating, tv=None):\n",
    "    if genre == '*ANY*':\n",
    "        #consider tv and rating selections\n",
    "        if tv == 'Movies':\n",
    "            mask_tv = netflixdf['TV'] == 'no'\n",
    "        elif tv == 'TV':\n",
    "            mask_tv = netflixdf['TV'] == 'yes'\n",
    "        else:\n",
    "            mask_tv = netflixdf['TV'].notna()  #include both tv shows and movies\n",
    "        \n",
    "        mask_rating = netflixdf['rating'] >= lowest_rating\n",
    "        durations = netflixdf[mask_tv & mask_rating]['duration']\n",
    "        \n",
    "        plt.figure(figsize=(10, 6)) #learned matplotlib code to set figure size, labels, and title from https://matplotlib.org/stable/api/matplotlib_configuration_api.html\n",
    "        plt.xlabel('Duration (Minutes)')\n",
    "        plt.ylabel('Frequency')\n",
    "        plt.title(f'Histogram of Film Durations for All Genres with Rating >= {lowest_rating}') \n",
    "        sns.histplot(durations.dropna(), bins=40) #it was easier for me to visualize all the changes to the histogram by using matplotlib rather than doing it all on one line\n",
    "\n",
    "        #add flight duration annotation (a vertical line on the histogram)\n",
    "        plt.axvline(x=flight_duration, color='red', linestyle='--', label=f'Flight Duration: {flight_duration:.2f} minutes') #https://matplotlib.org/stable/api/_as_gen/matplotlib.pyplot.axvline.html\n",
    "        plt.legend()\n",
    "        plt.show()\n",
    "    else:\n",
    "        #plot histogram for specific genre\n",
    "        mask_genre = netflixdf['genre'].fillna('').str.contains(genre)\n",
    "        mask_rating = netflixdf['rating'] >= lowest_rating\n",
    "        if tv == 'Movies':\n",
    "            mask_tv = netflixdf['TV'] == 'no'\n",
    "        elif tv == 'TV':\n",
    "            mask_tv = netflixdf['TV'] == 'yes'\n",
    "        else:\n",
    "            mask_tv = netflixdf['TV'].notna()  #include both TV shows and movies\n",
    "        durations = netflixdf[mask_genre & mask_rating & mask_tv]['duration']\n",
    "            \n",
    "        #copy and pasted from earlier code\n",
    "        plt.figure(figsize=(10, 6))\n",
    "        plt.xlabel('Duration (Minutes)')\n",
    "        plt.ylabel('Frequency')\n",
    "        plt.title(f'Histogram of Film Durations for Genre: {genre} with Rating >= {lowest_rating}')\n",
    "        sns.histplot(durations.dropna(), bins=40)\n",
    "\n",
    "        plt.axvline(x=flight_duration, color='red', linestyle='--', label=f'Flight Duration: {flight_duration:.2f} minutes')\n",
    "        plt.legend()\n",
    "        plt.show()\n",
    "\n",
    "def get_movies(genre, lowest_rating, flight_duration, tolerance=30):\n",
    "    if genre == '*ANY*':\n",
    "        mask_genre = netflixdf['duration'].notna()  #filter out null durations\n",
    "    else:\n",
    "        mask_genre = netflixdf['genre'].fillna('').str.contains(genre)\n",
    "    mask_rating = netflixdf['rating'] >= lowest_rating\n",
    "    mask_duration = (netflixdf['duration'] > 0) & (netflixdf['duration'] >= flight_duration - tolerance) & (netflixdf['duration'] <= flight_duration + tolerance)\n",
    "    \n",
    "    close_movies = netflixdf[mask_genre & mask_rating & mask_duration] \n",
    "    close_movies = close_movies.drop_duplicates(subset=['title']) #https://pandas.pydata.org/pandas-docs/dev/reference/api/pandas.DataFrame.drop_duplicates.html (drops duplicate titles in the df)\n",
    "    return close_movies[['title', 'duration', 'genre', 'rating', 'TV', 'description']]\n",
    "        \n",
    "#calculate unique genres\n",
    "unique_genres = set()\n",
    "for genre in netflixdf['genre']:\n",
    "    if isinstance(genre, str): #got some extra help to relearn isinstance from https://www.w3schools.com/python/ref_func_isinstance.asp\n",
    "        unique_genres.update(genre.replace(\",\", \"\").split()) #.update is used to update a set (unique_genres is a set)\n",
    "\n",
    "#add \"any\" option to unique genres\n",
    "unique_genres_with_any = ['*ANY*'] + list(sorted(unique_genres))\n",
    "\n",
    "#calculate mean durations for each genre\n",
    "genre_mean_duration = {}\n",
    "for genre in unique_genres:\n",
    "    mask_genre = netflixdf['genre'].fillna('').str.contains(genre)\n",
    "    durations = netflixdf.loc[mask_genre, 'duration']\n",
    "    mean_duration = durations.mean()\n",
    "    genre_mean_duration[genre] = mean_duration\n",
    "\n",
    "#turn genre_mean_duration into a df\n",
    "genre_mean_duration_df = pd.DataFrame(genre_mean_duration.items(), columns=['genre', 'mean duration'])\n",
    "genre_mean_duration_df = genre_mean_duration_df.sort_values(by='mean duration')\n",
    "\n",
    "#make nice looking widgets with descriptions that are fully visible (https://ipywidgets.readthedocs.io/en/latest/examples/Widget%20List.html)\n",
    "departure_widget = widgets.Dropdown(options=airportdf['iata'], description='Departure Airport', style={'description_width': 'initial'}) #got help from ChatGPT to use 'description_width' (used to make the entire description visible)\n",
    "arrival_widget = widgets.Dropdown(options=airportdf['iata'], description='Arrival Airport', style={'description_width': 'initial'})\n",
    "genre_widget = widgets.Dropdown(options=unique_genres_with_any, description='Genre', style={'description_width': 'initial'})\n",
    "tv_widget = widgets.Dropdown(options=['All', 'Movies', 'TV'], description='Type', style={'description_width': 'initial'})\n",
    "lowest_rating_widget = widgets.IntSlider(min=1, max=10, description='Lowest Rating', style={'description_width': 'initial'})\n",
    "\n",
    "display(HTML('<h1>Films for Flights</h1>'))\n",
    "@interact_manual(departure_airport=departure_widget, arrival_airport=arrival_widget, genre=genre_widget, tv=tv_widget, lowest_rating=lowest_rating_widget)\n",
    "def onclick(departure_airport, arrival_airport, genre, tv, lowest_rating):\n",
    "    if departure_airport == arrival_airport:\n",
    "        display(HTML(\"<h3>Departure and arrival airports cannot be the same.</h3>\"))\n",
    "        return\n",
    "\n",
    "    duration_mins = estimate_flight_duration(departure_airport, arrival_airport)\n",
    "    display(HTML(f\"<h3>The duration of the flight from {airportdf.loc[airportdf['iata'] == departure_airport, 'airport'].values[0]} to {airportdf.loc[airportdf['iata'] == arrival_airport, 'airport'].values[0]} is approximately {duration_mins:.2f} minutes.</h3>\"))\n",
    "    plot_flight_path(departure_airport, arrival_airport)\n",
    "    plot_histogram(genre, duration_mins, lowest_rating, tv)  #pass tv parameter here\n",
    "    \n",
    "    #get close movies\n",
    "    if tv == 'All': \n",
    "        close_movies = get_movies(genre, lowest_rating, duration_mins)\n",
    "        print('**Some films listed as \"TV\" are movies that were made for television broadcasting**')\n",
    "    elif tv == 'Movies':\n",
    "        close_movies = get_movies(genre, lowest_rating, duration_mins)\n",
    "        close_movies = close_movies[close_movies['TV'] == 'no']\n",
    "    elif tv == 'TV': #some of these are movies that were made for television broadcasting\n",
    "        close_movies = get_movies(genre, lowest_rating, duration_mins)\n",
    "        close_movies = close_movies[close_movies['TV'] == 'yes']\n",
    "        print('**Some films listed as \"TV\" are movies that were made for television broadcasting**')\n",
    "    else:\n",
    "        close_movies = get_movies(genre, lowest_rating, duration_mins, tolerance=30)\n",
    "    \n",
    "    #display list of close movies\n",
    "    if not close_movies.empty:\n",
    "        display(HTML('<h3>\\nClose Movies:</h3>'))\n",
    "        display(HTML(close_movies.sample(n=min(len(close_movies), 15)).to_html())) #learned from ChatGPT (randomly selects up to 15 rows from the df and displays them as an html-formatted table)\n",
    "    else:\n",
    "        display(HTML(\"<h3>\\nNo movies found that match the criteria and duration range.</h3>\"))"
   ]
  },
  {
   "cell_type": "code",
   "execution_count": null,
   "metadata": {},
   "outputs": [],
   "source": []
  },
  {
   "cell_type": "markdown",
   "metadata": {},
   "source": [
    "### Prepare for your Pitch and Reflection (P4)\n",
    "\n",
    "With the project code complete, its time to prepare for the final deliverable - submitting your project demo Pitch and reflection.\n"
   ]
  },
  {
   "cell_type": "code",
   "execution_count": null,
   "metadata": {},
   "outputs": [
    {
     "name": "stdout",
     "output_type": "stream",
     "text": [
      "✅ TIMESTAMP  : 2024-05-04 17:45\n",
      "✅ COURSE     : ist256\n",
      "✅ TERM       : spring2024\n",
      "✅ USER       : ahschiff@syr.edu\n",
      "✅ STUDENT    : True\n",
      "✅ PATH       : ist256/spring2024/lessons/project/P3.ipynb\n",
      "✅ ASSIGNMENT : P3.ipynb\n",
      "✅ POINTS     : 0\n",
      "✅ DUE DATE   : 2024-05-07 23:59\n",
      "✅ LATE       : False\n",
      "✅ STATUS     : New Submission\n",
      "\n"
     ]
    },
    {
     "name": "stdin",
     "output_type": "stream",
     "text": [
      "❓ Submit? [y/n] ❓  y\n"
     ]
    }
   ],
   "source": [
    "# run this code to turn in your work!\n",
    "from casstools.assignment import Assignment\n",
    "Assignment().submit()"
   ]
  },
  {
   "cell_type": "code",
   "execution_count": null,
   "metadata": {},
   "outputs": [],
   "source": []
  }
 ],
 "metadata": {
  "kernelspec": {
   "display_name": "Python 3 (ipykernel)",
   "language": "python",
   "name": "python3"
  },
  "language_info": {
   "codemirror_mode": {
    "name": "ipython",
    "version": 3
   },
   "file_extension": ".py",
   "mimetype": "text/x-python",
   "name": "python",
   "nbconvert_exporter": "python",
   "pygments_lexer": "ipython3",
   "version": "3.11.7"
  },
  "varInspector": {
   "cols": {
    "lenName": 16,
    "lenType": 16,
    "lenVar": 40
   },
   "kernels_config": {
    "python": {
     "delete_cmd_postfix": "",
     "delete_cmd_prefix": "del ",
     "library": "var_list.py",
     "varRefreshCmd": "print(var_dic_list())"
    },
    "r": {
     "delete_cmd_postfix": ") ",
     "delete_cmd_prefix": "rm(",
     "library": "var_list.r",
     "varRefreshCmd": "cat(var_dic_list()) "
    }
   },
   "types_to_exclude": [
    "module",
    "function",
    "builtin_function_or_method",
    "instance",
    "_Feature"
   ],
   "window_display": false
  }
 },
 "nbformat": 4,
 "nbformat_minor": 4
}
